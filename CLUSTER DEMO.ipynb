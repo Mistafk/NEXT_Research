{
 "cells": [
  {
   "cell_type": "code",
   "execution_count": 2,
   "metadata": {},
   "outputs": [],
   "source": [
    "import numpy as np\n",
    "import pandas as pd\n",
    "\n",
    "import matplotlib.pyplot as ply\n",
    "import matplotlib.pyplot as plt\n",
    "\n",
    "import seaborn as sns\n",
    "\n",
    "sns.set()\n",
    "from sklearn.cluster import KMeans"
   ]
  },
  {
   "cell_type": "code",
   "execution_count": null,
   "metadata": {},
   "outputs": [],
   "source": []
  },
  {
   "cell_type": "code",
   "execution_count": null,
   "metadata": {},
   "outputs": [],
   "source": [
    "\n",
    "\n"
   ]
  },
  {
   "cell_type": "code",
   "execution_count": null,
   "metadata": {},
   "outputs": [],
   "source": [
    "\n",
    "\n"
   ]
  },
  {
   "cell_type": "code",
   "execution_count": null,
   "metadata": {},
   "outputs": [],
   "source": []
  },
  {
   "cell_type": "code",
   "execution_count": 3,
   "metadata": {
    "scrolled": true
   },
   "outputs": [
    {
     "name": "stdout",
     "output_type": "stream",
     "text": [
      "    Material  Yarn Count\n",
      "0          3      30.000\n",
      "1          1      30.000\n",
      "2          8      18.000\n",
      "3          4      20.000\n",
      "4          1      18.000\n",
      "5          1      24.000\n",
      "6          3      30.000\n",
      "7          1      20.000\n",
      "8          6      32.000\n",
      "9          2      34.000\n",
      "10         2      34.000\n",
      "11         2      34.000\n",
      "12         6      32.000\n",
      "13         3      30.000\n",
      "14         1      30.000\n",
      "15         9       3.846\n",
      "16         2       1.458\n",
      "17        10       2.083\n",
      "18         2      25.000\n",
      "19         1      25.000\n",
      "20         3      24.000\n",
      "21        11      20.000\n",
      "22         3      20.000\n",
      "23         4      40.000\n",
      "24         4      20.000\n",
      "25         2      36.000\n",
      "26         3      20.000\n",
      "27         3      20.000\n",
      "28         3      20.000\n",
      "29         5      21.000\n",
      "30         5      21.000\n",
      "31        12      24.000\n",
      "32         4      36.000\n",
      "33        13       0.001\n",
      "34         7      10.000\n",
      "35         1      30.000\n",
      "36         3      30.000\n",
      "37         5      20.000\n",
      "38         3      21.000\n"
     ]
    },
    {
     "data": {
      "image/png": "[encoded data removed]",
      "text/plain": [
       "<Figure size 432x288 with 1 Axes>"
      ]
     },
     "metadata": {},
     "output_type": "display_data"
    }
   ],
   "source": [
    "data = pd.read_excel (r'C:\\Users\\furka\\NEXT\\YARNUPDATE2.xlsx')\n",
    "\n",
    "pd.set_option('display.max_rows', 100)\n",
    "pd.set_option('display.max_columns', 100)\n",
    "pd.set_option('display.width', 100)\n",
    "pd.set_option('display.max_colwidth', 81)\n",
    "\n",
    "\n",
    "df = pd.DataFrame(data, columns= ['Material','Yarn Count'])\n",
    "\n",
    "\n",
    "print(df)\n",
    "\n",
    "plt.scatter(data['Material'],data['Yarn Count'])\n",
    "\n",
    "plt.xlabel('Material')\n",
    "plt.ylabel('Yarn Count')\n",
    "\n",
    "plt.show()\n",
    "\n",
    "\n",
    "\n",
    "\n",
    "\n",
    " "
   ]
  },
  {
   "cell_type": "code",
   "execution_count": 5,
   "metadata": {},
   "outputs": [
    {
     "ename": "SyntaxError",
     "evalue": "invalid syntax (<ipython-input-5-ce7a56375a7f>, line 1)",
     "output_type": "error",
     "traceback": [
      "\u001b[1;36m  File \u001b[1;32m\"<ipython-input-5-ce7a56375a7f>\"\u001b[1;36m, line \u001b[1;32m1\u001b[0m\n\u001b[1;33m    jupyter notebook --notebook-dir=/Users/furka/NEXT_Research\u001b[0m\n\u001b[1;37m                   ^\u001b[0m\n\u001b[1;31mSyntaxError\u001b[0m\u001b[1;31m:\u001b[0m invalid syntax\n"
     ]
    }
   ],
   "source": [
    " jupyter notebook --notebook-dir=/Users/furka/NEXT_Research\n",
    "    \n",
    "    "
   ]
  }
 ],
 "metadata": {
  "kernelspec": {
   "display_name": "Python 3",
   "language": "python",
   "name": "python3"
  },
  "language_info": {
   "codemirror_mode": {
    "name": "ipython",
    "version": 3
   },
   "file_extension": ".py",
   "mimetype": "text/x-python",
   "name": "python",
   "nbconvert_exporter": "python",
   "pygments_lexer": "ipython3",
   "version": "3.7.6"
  }
 },
 "nbformat": 4,
 "nbformat_minor": 4
}
